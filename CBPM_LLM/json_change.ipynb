{
 "cells": [
  {
   "cell_type": "code",
   "execution_count": 138,
   "metadata": {},
   "outputs": [],
   "source": [
    "import os\n",
    "import json\n",
    "import scipy.io as sio\n",
    "import numpy as np"
   ]
  },
  {
   "cell_type": "code",
   "execution_count": null,
   "metadata": {},
   "outputs": [],
   "source": [
    "'''\n",
    "def get_json(demos, feas, bp, ext = 'train_cas'):\n",
    "    final_data = [] # json\n",
    "    I = \"You are a personalized healthcare agent trained to predict systolic blood pressure (SBP) and diastolic blood pressure (DBP) based on user information and physiological data. Please note that SBP is typically higher than DBP, with SBP ranging from 85 to 180 mmHg and DBP ranging from 40 to 90 mmHg.\"\n",
    "    for i in range(feas.shape[0]):\n",
    "        if demos[i,2] == 0:\n",
    "            gender = 'female'\n",
    "        else:\n",
    "            gender = 'male'\n",
    "\n",
    "        Q1 = \"The user's profile as age: {}-year-old, gender: {}, height: {:.1f} cm, weight: {:.1f} kg, history of hypertension: {}.\".format(int(demos[i,1]),gender, demos[i,3],demos[i,4],int(demos[i,0]))\n",
    "        ff = feas[i,:]\n",
    "        Q2 = \" The recent sensor readings show: {}. What would be the predicted SBP and DBP values?\".format([round(x,2) for x in ff])\n",
    "        A = \"The predicted SBP is {:.1f} mmHg, and the predicted DBP is {:.1f} mmHg\".format(bp[i,1],bp[i,0])\n",
    "\n",
    "        \n",
    "        final_data.append({'instruction':I, 'input':Q1+Q2, 'output':A})\n",
    "\n",
    "        \n",
    "    final_data = json.dumps(final_data, indent=4)\n",
    "    with open(\"{}.json\".format(ext), \"w\") as outfile:\n",
    "        outfile.write(final_data)\n",
    "\n",
    "get_json(trainDemo, trainSig, trainY, ext = 'train_cas_calibrationfree')\n",
    "get_json(testDemo, testSig, testY, ext = 'test_cas_calibrationfree')\n",
    "'''"
   ]
  },
  {
   "cell_type": "code",
   "execution_count": 139,
   "metadata": {},
   "outputs": [],
   "source": [
    "def find_str(str):\n",
    "  start_index = str.find(\"Based on this data\")\n",
    "  return str[0:start_index]"
   ]
  },
  {
   "cell_type": "code",
   "execution_count": 140,
   "metadata": {},
   "outputs": [],
   "source": [
    "primer = \" The output should be provided in this format: Predicted_map: <MAP_VALUE> mmHg, Predicted_pp: <PP_VALUE> mmHg.\"\n",
    "\n",
    "filenamelist = [\"cas_testlist1\",\"cas_testlist2\",\"cas_testlist3\",\"cas_testlist4\",\"cas_testlist5\",\n",
    "\"cas_trainlist1\",\"cas_trainlist2\",\"cas_trainlist3\",\"cas_trainlist4\",\"cas_trainlist5\"]\n",
    "\n",
    "for filename in filenamelist:\n",
    "    with open(\"./dataset/\"+filename+\".json\",\"r\",encoding=\"utf8\") as f:\n",
    "        data = json.load(f)\n",
    "        changed_data=[]\n",
    "        for l in data:\n",
    "            inp = l[\"input\"]\n",
    "            map = round((float(l[\"refsbp\"]) + float(l[\"refdbp\"])*2)/3,1)\n",
    "            pp = round(float(l[\"refsbp\"]) - float(l[\"refdbp\"]),1)\n",
    "            output = \"Predicted_map: {:.1f} mmHg, Predicted_pp: {:.1f} mmHg.\".format(map,pp)\n",
    "\n",
    "            changed_data.append({'instruction':l[\"instruction\"], 'input':l[\"input\"]+primer, \"output\": output, \"refsbp\":l[\"refsbp\"], \"refdbp\":l[\"refdbp\"], \"basesbp\":l[\"basesbp\"], \"basedbp\":l[\"basedbp\"]})\n",
    "    #写到json中\n",
    "    changed_data = json.dumps(changed_data, indent=4)\n",
    "    with open(\"./dataset/\"+\"{}.json\".format(filename+\"_v2\"), \"w\") as outfile:\n",
    "        outfile.write(changed_data)\n"
   ]
  },
  {
   "cell_type": "code",
   "execution_count": null,
   "metadata": {},
   "outputs": [],
   "source": []
  }
 ],
 "metadata": {
  "kernelspec": {
   "display_name": "Python 3.11.7 ('unsloth_env')",
   "language": "python",
   "name": "python3"
  },
  "language_info": {
   "codemirror_mode": {
    "name": "ipython",
    "version": 3
   },
   "file_extension": ".py",
   "mimetype": "text/x-python",
   "name": "python",
   "nbconvert_exporter": "python",
   "pygments_lexer": "ipython3",
   "version": "3.11.7"
  },
  "orig_nbformat": 4,
  "vscode": {
   "interpreter": {
    "hash": "2a33940af78ba4a8775f1a374a756fca6bb81c5aa97af4360b008382a5ba91e3"
   }
  }
 },
 "nbformat": 4,
 "nbformat_minor": 2
}
